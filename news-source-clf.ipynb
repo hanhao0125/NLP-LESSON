{
 "cells": [
  {
   "cell_type": "markdown",
   "metadata": {},
   "source": [
    "# News Source Classification"
   ]
  },
  {
   "cell_type": "code",
   "execution_count": 4,
   "metadata": {},
   "outputs": [],
   "source": [
    "import pandas as pd\n",
    "from pprint import pprint as pp\n",
    "from collections import Counter\n",
    "import matplotlib.pyplot as plt\n",
    "# plt.rcParams['font.sans-serif']=['SimHei'] #用来正常显示中文标签\n",
    "# plt.rcParams['axes.unicode_minus']=False #用来正常显示负号\n"
   ]
  },
  {
   "cell_type": "code",
   "execution_count": 5,
   "metadata": {},
   "outputs": [
    {
     "name": "stdout",
     "output_type": "stream",
     "text": [
      "Index(['id', 'author', 'source', 'content', 'feature', 'title', 'url'], dtype='object')\n"
     ]
    }
   ],
   "source": [
    "d = pd.read_csv('/root/files/sql_result.csv')\n",
    "print(d.columns)"
   ]
  },
  {
   "cell_type": "markdown",
   "metadata": {},
   "source": [
    "# Only need the x:content and y:source\n",
    "## first check the label distribution"
   ]
  },
  {
   "cell_type": "code",
   "execution_count": 6,
   "metadata": {},
   "outputs": [
    {
     "data": {
      "application/vnd.jupyter.widget-view+json": {
       "model_id": "3e586630c9cc4dfb9cc9d20bc9aa51f3",
       "version_major": 2,
       "version_minor": 0
      },
      "text/html": [
       "<p>Failed to display Jupyter Widget of type <code>FigureCanvasNbAgg</code>.</p>\n",
       "<p>\n",
       "  If you're reading this message in the Jupyter Notebook or JupyterLab Notebook, it may mean\n",
       "  that the widgets JavaScript is still loading. If this message persists, it\n",
       "  likely means that the widgets JavaScript library is either not installed or\n",
       "  not enabled. See the <a href=\"https://ipywidgets.readthedocs.io/en/stable/user_install.html\">Jupyter\n",
       "  Widgets Documentation</a> for setup instructions.\n",
       "</p>\n",
       "<p>\n",
       "  If you're reading this message in another frontend (for example, a static\n",
       "  rendering on GitHub or <a href=\"https://nbviewer.jupyter.org/\">NBViewer</a>),\n",
       "  it may mean that your frontend doesn't currently support widgets.\n",
       "</p>\n"
      ],
      "text/plain": [
       "FigureCanvasNbAgg()"
      ]
     },
     "metadata": {},
     "output_type": "display_data"
    }
   ],
   "source": [
    "%matplotlib widget\n",
    "import matplotlib as  mpl\n",
    "source_cnt = d['source'].value_counts()\n",
    "s_cnt = dict(source_cnt)\n",
    "s_cnt = sorted(s_cnt.items(),key=lambda x:x[1],reverse=True)[:10]\n",
    "sc = [i[0] for i in s_cnt]\n",
    "cnt = [i[1] for i in s_cnt]\n",
    "plt.bar(sc,cnt)\n",
    "plt.show()"
   ]
  },
  {
   "cell_type": "markdown",
   "metadata": {},
   "source": [
    "## only take the top 10 lables"
   ]
  },
  {
   "cell_type": "code",
   "execution_count": 8,
   "metadata": {},
   "outputs": [
    {
     "name": "stdout",
     "output_type": "stream",
     "text": [
      "'delete 0'\n",
      "{'中国台湾网': 7,\n",
      " '中国新闻网': 3,\n",
      " '中国证券报?中证网': 2,\n",
      " '南方日报第01版': 6,\n",
      " '参考消息网': 4,\n",
      " '央广网': 8,\n",
      " '微博': 1,\n",
      " '新华社': 0,\n",
      " '新华网': 9,\n",
      " '环球网': 5}\n"
     ]
    },
    {
     "data": {
      "text/html": [
       "<div>\n",
       "<style scoped>\n",
       "    .dataframe tbody tr th:only-of-type {\n",
       "        vertical-align: middle;\n",
       "    }\n",
       "\n",
       "    .dataframe tbody tr th {\n",
       "        vertical-align: top;\n",
       "    }\n",
       "\n",
       "    .dataframe thead th {\n",
       "        text-align: right;\n",
       "    }\n",
       "</style>\n",
       "<table border=\"1\" class=\"dataframe\">\n",
       "  <thead>\n",
       "    <tr style=\"text-align: right;\">\n",
       "      <th></th>\n",
       "      <th>id</th>\n",
       "      <th>author</th>\n",
       "      <th>source</th>\n",
       "      <th>content</th>\n",
       "      <th>feature</th>\n",
       "      <th>title</th>\n",
       "      <th>url</th>\n",
       "    </tr>\n",
       "  </thead>\n",
       "  <tbody>\n",
       "    <tr>\n",
       "      <th>3</th>\n",
       "      <td>89614</td>\n",
       "      <td>NaN</td>\n",
       "      <td>新华社</td>\n",
       "      <td>这是6月18日在葡萄牙中部大佩德罗冈地区拍摄的被森林大火烧毁的汽车。新华社记者张立云摄\\n</td>\n",
       "      <td>{\"type\":\"国际新闻\",\"site\":\"环球\",\"commentNum\":\"0\",\"j...</td>\n",
       "      <td>葡森林火灾造成至少62人死亡 政府宣布进入紧急状态（组图）</td>\n",
       "      <td>http://world.huanqiu.com/hot/2017-06/10866126....</td>\n",
       "    </tr>\n",
       "    <tr>\n",
       "      <th>5</th>\n",
       "      <td>89612</td>\n",
       "      <td>张怡</td>\n",
       "      <td>中国证券报?中证网</td>\n",
       "      <td>受到A股被纳入MSCI指数的利好消息刺激，A股市场从周三开始再度上演龙马行情，周四上午金...</td>\n",
       "      <td>{\"type\":\"市场\",\"site\":\"中证网\",\"commentNum\":\"0\",\"jo...</td>\n",
       "      <td>金融股一枝独秀 配置价值犹存</td>\n",
       "      <td>http://www.cs.com.cn/gppd/201706/t20170623_533...</td>\n",
       "    </tr>\n",
       "    <tr>\n",
       "      <th>7</th>\n",
       "      <td>89610</td>\n",
       "      <td>申玉彬 整理</td>\n",
       "      <td>中国证券报?中证网</td>\n",
       "      <td>沙漠雄鹰：震荡有利消化套牢筹码\\n　　周四开盘上证50在银行券商大蓝筹带动下一度涨近2%...</td>\n",
       "      <td>{\"type\":\"市场\",\"site\":\"中证网\",\"commentNum\":\"0\",\"jo...</td>\n",
       "      <td>博友早评：震荡有利消化套牢筹码</td>\n",
       "      <td>http://www.cs.com.cn/gppd/201706/t20170623_533...</td>\n",
       "    </tr>\n",
       "    <tr>\n",
       "      <th>9</th>\n",
       "      <td>89608</td>\n",
       "      <td>吴瞬</td>\n",
       "      <td>中国证券报?中证网</td>\n",
       "      <td>6月21日，A股纳入MSCI指数尘埃落定，但当天被寄予厚望的券商股并未扛起反弹大旗。22...</td>\n",
       "      <td>{\"type\":\"市场\",\"site\":\"中证网\",\"commentNum\":\"0\",\"jo...</td>\n",
       "      <td>纳入MSCI指数 A股长期配置价值提升</td>\n",
       "      <td>http://www.cs.com.cn/gppd/201706/t20170623_533...</td>\n",
       "    </tr>\n",
       "    <tr>\n",
       "      <th>12</th>\n",
       "      <td>89605</td>\n",
       "      <td>NaN</td>\n",
       "      <td>中国新闻网</td>\n",
       "      <td>中新网6月19日电 据外媒报道，美国底特律一名男子1976年因为一根头发被定谋杀罪，监禁41...</td>\n",
       "      <td>{\"type\":\"国际新闻\",\"site\":\"环球\",\"commentNum\":\"0\",\"j...</td>\n",
       "      <td>因为犯罪现场的一根头发，他坐冤狱41年后终获释</td>\n",
       "      <td>http://world.huanqiu.com/hot/2017-06/10866136....</td>\n",
       "    </tr>\n",
       "  </tbody>\n",
       "</table>\n",
       "</div>"
      ],
      "text/plain": [
       "       id  author     source  \\\n",
       "3   89614     NaN        新华社   \n",
       "5   89612      张怡  中国证券报?中证网   \n",
       "7   89610  申玉彬 整理  中国证券报?中证网   \n",
       "9   89608      吴瞬  中国证券报?中证网   \n",
       "12  89605     NaN      中国新闻网   \n",
       "\n",
       "                                              content  \\\n",
       "3       这是6月18日在葡萄牙中部大佩德罗冈地区拍摄的被森林大火烧毁的汽车。新华社记者张立云摄\\n   \n",
       "5   　　受到A股被纳入MSCI指数的利好消息刺激，A股市场从周三开始再度上演龙马行情，周四上午金...   \n",
       "7   　　沙漠雄鹰：震荡有利消化套牢筹码\\n　　周四开盘上证50在银行券商大蓝筹带动下一度涨近2%...   \n",
       "9   　　6月21日，A股纳入MSCI指数尘埃落定，但当天被寄予厚望的券商股并未扛起反弹大旗。22...   \n",
       "12  中新网6月19日电 据外媒报道，美国底特律一名男子1976年因为一根头发被定谋杀罪，监禁41...   \n",
       "\n",
       "                                              feature  \\\n",
       "3   {\"type\":\"国际新闻\",\"site\":\"环球\",\"commentNum\":\"0\",\"j...   \n",
       "5   {\"type\":\"市场\",\"site\":\"中证网\",\"commentNum\":\"0\",\"jo...   \n",
       "7   {\"type\":\"市场\",\"site\":\"中证网\",\"commentNum\":\"0\",\"jo...   \n",
       "9   {\"type\":\"市场\",\"site\":\"中证网\",\"commentNum\":\"0\",\"jo...   \n",
       "12  {\"type\":\"国际新闻\",\"site\":\"环球\",\"commentNum\":\"0\",\"j...   \n",
       "\n",
       "                            title  \\\n",
       "3   葡森林火灾造成至少62人死亡 政府宣布进入紧急状态（组图）   \n",
       "5                  金融股一枝独秀 配置价值犹存   \n",
       "7                 博友早评：震荡有利消化套牢筹码   \n",
       "9             纳入MSCI指数 A股长期配置价值提升   \n",
       "12        因为犯罪现场的一根头发，他坐冤狱41年后终获释   \n",
       "\n",
       "                                                  url  \n",
       "3   http://world.huanqiu.com/hot/2017-06/10866126....  \n",
       "5   http://www.cs.com.cn/gppd/201706/t20170623_533...  \n",
       "7   http://www.cs.com.cn/gppd/201706/t20170623_533...  \n",
       "9   http://www.cs.com.cn/gppd/201706/t20170623_533...  \n",
       "12  http://world.huanqiu.com/hot/2017-06/10866136....  "
      ]
     },
     "execution_count": 8,
     "metadata": {},
     "output_type": "execute_result"
    }
   ],
   "source": [
    "content = d.content.tolist()\n",
    "sc_labels_t = {s:i for i,s in enumerate(sc)}\n",
    "total = len(d)\n",
    "fd = d[d['source'].isin(set(sc))]\n",
    "pp(f'delete {total - len(content)}')\n",
    "pp(sc_labels_t)\n",
    "fd.head()"
   ]
  },
  {
   "cell_type": "code",
   "execution_count": 9,
   "metadata": {},
   "outputs": [],
   "source": [
    "content = fd.content.tolist()\n",
    "sc_labels = fd.source.apply(lambda x:sc_labels_t[x]).tolist()\n"
   ]
  },
  {
   "cell_type": "markdown",
   "metadata": {},
   "source": [
    "# tools"
   ]
  },
  {
   "cell_type": "code",
   "execution_count": 10,
   "metadata": {},
   "outputs": [],
   "source": [
    "import jieba\n",
    "def cut(s):\n",
    "    return list(jieba.cut(s))"
   ]
  },
  {
   "cell_type": "markdown",
   "metadata": {},
   "source": [
    "# Design feature by content"
   ]
  },
  {
   "cell_type": "code",
   "execution_count": 11,
   "metadata": {},
   "outputs": [],
   "source": [
    "import numpy as np\n",
    "content = [str(i).replace('\\n','').replace('\\u3000','') for i in content]"
   ]
  },
  {
   "cell_type": "markdown",
   "metadata": {},
   "source": [
    "## TF-IDF"
   ]
  },
  {
   "cell_type": "code",
   "execution_count": 12,
   "metadata": {},
   "outputs": [
    {
     "name": "stderr",
     "output_type": "stream",
     "text": [
      "Building prefix dict from the default dictionary ...\n",
      "Loading model from cache /tmp/jieba.cache\n",
      "Loading model cost 0.647 seconds.\n",
      "Prefix dict has been built succesfully.\n"
     ]
    },
    {
     "name": "stdout",
     "output_type": "stream",
     "text": [
      "216071\n"
     ]
    }
   ],
   "source": [
    "cut_content = [cut(i) for i in content]\n",
    "words = set()\n",
    "for c in cut_content: words = words | set(c)\n",
    "print(len(words))\n",
    "w2i = {k:v for v,k in enumerate(words)}\n",
    "i2w = {v:k for k,v in w2i.items()}"
   ]
  },
  {
   "cell_type": "code",
   "execution_count": 13,
   "metadata": {},
   "outputs": [
    {
     "name": "stdout",
     "output_type": "stream",
     "text": [
      "['57.76', '翔变', '达二', '药品', '只知', '贝汉说', '厅团', '象形文字', '黑格尔', '近到', '复掘', '几十吨', '势', '威默', '一一对应', '十堰市', 'FA18', '鸭鸣报', '难达', '严格教育', '七八百元', '48.15', '周维松', '朗伊尔城', '仍进', '叙镑', '美溪', '中维尼', '花村', '股型', '法墨', '庞超芳', '依海', '户均', '旗操', '审慎', '扣罚', '皇天', '触键', '及场域', '何新', '组占', '李强', '病树', '偃师县', '所市', '体委', '强弱', '贪心', '应靠', '原盐', '吉莉恩', '美两大', '齐湘', '奴隶制', '俄版', '承上启下', '地球化学', '漏窗', '冠冕', '蔡俊', '市同', '克罗克', '尿毒症', '仇保兴', '无现金', '加尔诺', 'Hello', '瓦其', '打越', '镇集', '音箱', '共提', '测深', '轮动料', '25.5', '郴电', '通布图', '八米', '乙为', '偏南', '达峰', '杨宝森', '再读', '双鱼', '6.1903', '采尔', '全食', '熏蒸', 'nBondIT', '留足', '中房', '撤职', '九个', '陈岭', '求之不得', '8439.3', '陈武', '斗门', '埃武拉']\n"
     ]
    }
   ],
   "source": [
    "print(list(words)[:100])"
   ]
  },
  {
   "cell_type": "code",
   "execution_count": 14,
   "metadata": {},
   "outputs": [
    {
     "data": {
      "text/plain": [
       "(83774, 216071)"
      ]
     },
     "execution_count": 14,
     "metadata": {},
     "output_type": "execute_result"
    }
   ],
   "source": [
    "from collections import Counter\n",
    "def calculate_term_frequency(c):\n",
    "    '''\n",
    "    @c : cut sentence.\n",
    "    @output : tf\n",
    "    '''\n",
    "    cnt = Counter(c)\n",
    "    tf = np.zeros((len(words)))\n",
    "    for k,v in dict(cnt).items():\n",
    "        tf[w2i[k]] = v / len(c)\n",
    "    return tf\n",
    "TF = []\n",
    "for c in cut_content:\n",
    "    TF.append(calculate_term_frequency(c))\n",
    "TF = np.array(TF)\n",
    "TF.shape"
   ]
  },
  {
   "cell_type": "code",
   "execution_count": null,
   "metadata": {},
   "outputs": [],
   "source": [
    "from sklearn.linear_model import LogisticRegression\n",
    "from sklearn.model_selection import train_test_split\n",
    "x_train,x_test,y_train,y_test = train_test_split(TF,sc_labels)\n",
    "lr = LogisticRegression()\n",
    "lr.fit(x_train,y_train)\n",
    "lr.score(x_test,y_test)\n",
    "print(x_train.shape,y_train.shape)"
   ]
  },
  {
   "cell_type": "code",
   "execution_count": null,
   "metadata": {},
   "outputs": [],
   "source": [
    "print(lr.score(x_test,y_test))"
   ]
  },
  {
   "cell_type": "code",
   "execution_count": null,
   "metadata": {},
   "outputs": [],
   "source": []
  }
 ],
 "metadata": {
  "kernelspec": {
   "display_name": "Python 3",
   "language": "python",
   "name": "python3"
  },
  "language_info": {
   "codemirror_mode": {
    "name": "ipython",
    "version": 3
   },
   "file_extension": ".py",
   "mimetype": "text/x-python",
   "name": "python",
   "nbconvert_exporter": "python",
   "pygments_lexer": "ipython3",
   "version": "3.6.8"
  }
 },
 "nbformat": 4,
 "nbformat_minor": 2
}
