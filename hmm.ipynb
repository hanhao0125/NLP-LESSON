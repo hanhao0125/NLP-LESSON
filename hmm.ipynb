{
 "cells": [
  {
   "cell_type": "markdown",
   "metadata": {},
   "source": [
    "# 隐马尔科夫模型Hidden Markov Model HMM"
   ]
  },
  {
   "cell_type": "markdown",
   "metadata": {},
   "source": [
    " ## 暴力求解\n",
    " 1. 生成所有的隐藏状态序列 I\n",
    " 2. 对每个隐藏状态序列， 计算观测序列出现的概率\n",
    " \n",
    "对于含有 N 个隐藏状态的hmm模型，设生成的序列长度为 T，那么共可生成$N^T$中隐藏状态序列，计算概率需要遍历隐藏序列 T，故时间复杂度为$O(TN^T)$"
   ]
  },
  {
   "cell_type": "code",
   "execution_count": 49,
   "metadata": {},
   "outputs": [
    {
     "name": "stdout",
     "output_type": "stream",
     "text": [
      "27\n",
      "[[0, 0, 0], [0, 0, 1], [0, 0, 2], [0, 1, 0], [0, 1, 1], [0, 1, 2], [0, 2, 0], [0, 2, 1], [0, 2, 2], [1, 0, 0], [1, 0, 1], [1, 0, 2], [1, 1, 0], [1, 1, 1], [1, 1, 2], [1, 2, 0], [1, 2, 1], [1, 2, 2], [2, 0, 0], [2, 0, 1], [2, 0, 2], [2, 1, 0], [2, 1, 1], [2, 1, 2], [2, 2, 0], [2, 2, 1], [2, 2, 2]]\n"
     ]
    }
   ],
   "source": [
    "def generate_hidden_sequences(N,T):\n",
    "    c = []\n",
    "    def backtracking(r):\n",
    "        if len(r) == T:\n",
    "            c.append([i for i in r])\n",
    "        else:\n",
    "            for i in range(N):\n",
    "                r.append(i)\n",
    "                backtracking(r)\n",
    "                r.pop()\n",
    "    backtracking([])\n",
    "    return c \n",
    "c = generate_hidden_sequences(3,3)\n",
    "print(len(c))\n",
    "print(c)"
   ]
  },
  {
   "cell_type": "code",
   "execution_count": 39,
   "metadata": {},
   "outputs": [
    {
     "name": "stdout",
     "output_type": "stream",
     "text": [
      "'-----------'\n",
      "[0.2, 0.4, 0.4]\n",
      "[[0.5, 0.2, 0.3], [0.3, 0.5, 0.2], [0.2, 0.3, 0.5]]\n",
      "[[0.5, 0.5], [0.4, 0.6], [0.7, 0.3]]\n",
      "'-----------'\n"
     ]
    }
   ],
   "source": [
    "from pprint import pprint as pp\n",
    "class HMM():\n",
    "    def __init__(self):\n",
    "        super().__init__()\n",
    "        self.p = [0.2,0.4,0.4]\n",
    "        self.A = [[0.5,.2,.3],[.3,.5,.2],[.2,.3,.5]]\n",
    "        self.B = [[.5,.5],[.4,.6],[.7,.3]]\n",
    "    def print_hmm(self):\n",
    "        pp('-----------')\n",
    "        pp(self.p)\n",
    "        pp(self.A)\n",
    "        pp(self.B)\n",
    "        pp('-----------')\n",
    "h = HMM()\n",
    "h.print_hmm()"
   ]
  },
  {
   "cell_type": "code",
   "execution_count": 50,
   "metadata": {},
   "outputs": [
    {
     "name": "stdout",
     "output_type": "stream",
     "text": [
      "[[0, 0, 0], [0, 0, 1], [0, 0, 2], [0, 1, 0], [0, 1, 1], [0, 1, 2], [0, 2, 0], [0, 2, 1], [0, 2, 2], [1, 0, 0], [1, 0, 1], [1, 0, 2], [1, 1, 0], [1, 1, 1], [1, 1, 2], [1, 2, 0], [1, 2, 1], [1, 2, 2], [2, 0, 0], [2, 0, 1], [2, 0, 2], [2, 1, 0], [2, 1, 1], [2, 1, 2], [2, 2, 0], [2, 2, 1], [2, 2, 2]]\n",
      "[0.00625, 0.0020000000000000005, 0.00525, 0.0018, 0.0024000000000000002, 0.0016799999999999999, 0.0009, 0.0010799999999999998, 0.0031499999999999996, 0.006000000000000001, 0.0019200000000000007, 0.005040000000000001, 0.007200000000000001, 0.009600000000000003, 0.00672, 0.0009600000000000001, 0.001152, 0.00336, 0.006999999999999999, 0.0022400000000000002, 0.005879999999999999, 0.007559999999999999, 0.010079999999999999, 0.007055999999999998, 0.0042, 0.005039999999999999, 0.014699999999999998]\n",
      "0.13021800000000003\n"
     ]
    }
   ],
   "source": [
    "t = [0,1,0]\n",
    "print(c)\n",
    "def prob():\n",
    "    p = [] \n",
    "    for i in c:\n",
    "        _p = h.p[i[0]] * h.B[i[0]][t[0]]\n",
    "        for k in range(1,len(i)):\n",
    "            _p *= h.A[i[k-1]][i[k]] * h.B[i[k]][t[k]]\n",
    "        p.append(_p)\n",
    "    return p\n",
    "p = prob()\n",
    "print(p)\n",
    "print(sum(p))\n",
    "        \n",
    "        "
   ]
  },
  {
   "cell_type": "code",
   "execution_count": null,
   "metadata": {},
   "outputs": [],
   "source": []
  }
 ],
 "metadata": {
  "kernelspec": {
   "display_name": "Python 3",
   "language": "python",
   "name": "python3"
  },
  "language_info": {
   "codemirror_mode": {
    "name": "ipython",
    "version": 3
   },
   "file_extension": ".py",
   "mimetype": "text/x-python",
   "name": "python",
   "nbconvert_exporter": "python",
   "pygments_lexer": "ipython3",
   "version": "3.6.8"
  }
 },
 "nbformat": 4,
 "nbformat_minor": 2
}
